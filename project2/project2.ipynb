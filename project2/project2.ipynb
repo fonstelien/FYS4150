{
 "cells": [
  {
   "cell_type": "markdown",
   "metadata": {},
   "source": [
    "# FYS4150 H20 Project 2"
   ]
  },
  {
   "cell_type": "markdown",
   "metadata": {},
   "source": [
    "## B: Setting up the tridiagonal matrix"
   ]
  },
  {
   "cell_type": "code",
   "execution_count": 1,
   "metadata": {},
   "outputs": [],
   "source": [
    "def make_tridiag(N, h):\n",
    "    central_diagonal = np.ndarray(N)\n",
    "    central_diagonal.fill(2/h**2)\n",
    "    first_off_diagonals = np.ndarray(N-1)\n",
    "    first_off_diagonals.fill(-1/h**2)\n",
    "    \n",
    "    A = np.diag(central_diagonal)\n",
    "    A += np.diag(first_off_diagonals, k=-1)\n",
    "    A += np.diag(first_off_diagonals, k=1)\n",
    "    \n",
    "    return A"
   ]
  },
  {
   "cell_type": "code",
   "execution_count": 2,
   "metadata": {},
   "outputs": [],
   "source": [
    "def eigencompare(exact_vals, exact_vecs, numerical_vals, numerical_vecs):\n",
    "    tol = 1E-5\n",
    "    \n",
    "    permutation = numerical_vals.argsort()\n",
    "    numerical_vals = numerical_vals[permutation]\n",
    "    numerical_vecs = numerical_vecs[permutation]\n",
    "\n",
    "    for i in range(len(exact_vals)):\n",
    "        e, n = exact_vals[i], numerical_vals[i]\n",
    "        if not (e - tol < n < e + tol):\n",
    "            return -1\n",
    "    \n",
    "    for i in range(len(exact_vals)):\n",
    "        e, n = exact_vecs[:,i], numerical_vecs[:,i]\n",
    "        if len(e) - tol < sum(e / n / (e[0] / n[0])) < len(e) + tol:\n",
    "            return -2\n",
    "    \n",
    "    return 0"
   ]
  },
  {
   "cell_type": "code",
   "execution_count": 25,
   "metadata": {},
   "outputs": [],
   "source": [
    "def eigen_vec_check(exact, numerical, numerical_vals):\n",
    "    tol = 1E-5\n",
    "    \n",
    "    permutation = numerical_vals.argsort()\n",
    "    numerical = numerical[permutation]\n",
    "\n",
    "    for i in range(exact.shape[0]):\n",
    "        e = exact[:,i]\n",
    "        n = numerical[:,i]\n",
    "        dotprod = e.T @ n\n",
    "        absprod = np.linalg.norm(e) * np.linalg.norm(n)\n",
    "        \n",
    "        print(e)\n",
    "        print(numerical[:,i])\n",
    "        print(dotprod)\n",
    "        print(absprod)\n",
    "        if not (absprod - tol < dotprod < absprod + tol):\n",
    "            return 1\n",
    "    \n",
    "    return 0"
   ]
  },
  {
   "cell_type": "code",
   "execution_count": 4,
   "metadata": {},
   "outputs": [],
   "source": [
    "n = 3\n",
    "N = n + 1\n",
    "h = .1\n",
    "A = make_tridiag(n, 1)\n",
    "numerical_vals, numerical_vecs = np.linalg.eig(A)"
   ]
  },
  {
   "cell_type": "code",
   "execution_count": 5,
   "metadata": {},
   "outputs": [],
   "source": [
    "exact_vecs = np.ndarray((n,n))\n",
    "for j in range(1,N):\n",
    "    exact_vecs[:,j-1] = [np.sin(k*j*np.pi/N)*7.07106781E-1 for k in range(1,N)]\n",
    "exact_vals = np.array([A[0,0] + 2*A[0,1]*np.cos(j*np.pi/N) for j in range(1,N)])"
   ]
  },
  {
   "cell_type": "code",
   "execution_count": 6,
   "metadata": {},
   "outputs": [
    {
     "data": {
      "text/plain": [
       "0"
      ]
     },
     "execution_count": 6,
     "metadata": {},
     "output_type": "execute_result"
    }
   ],
   "source": [
    "eigencompare(exact_vals, exact_vecs, numerical_vals, numerical_vecs)"
   ]
  },
  {
   "cell_type": "code",
   "execution_count": 86,
   "metadata": {},
   "outputs": [],
   "source": [
    "n = 5\n",
    "k, l = 1,2\n",
    "c = 4\n",
    "s = 2\n",
    "A = make_tridiag(n, 1)\n",
    "S = np.identity(n)\n",
    "S[k,k] = S[l,l] = c\n",
    "S[k,l] = s\n",
    "S[l,k] = -s"
   ]
  },
  {
   "cell_type": "code",
   "execution_count": 81,
   "metadata": {},
   "outputs": [
    {
     "data": {
      "text/html": [
       "<div>\n",
       "<style scoped>\n",
       "    .dataframe tbody tr th:only-of-type {\n",
       "        vertical-align: middle;\n",
       "    }\n",
       "\n",
       "    .dataframe tbody tr th {\n",
       "        vertical-align: top;\n",
       "    }\n",
       "\n",
       "    .dataframe thead th {\n",
       "        text-align: right;\n",
       "    }\n",
       "</style>\n",
       "<table border=\"1\" class=\"dataframe\">\n",
       "  <thead>\n",
       "    <tr style=\"text-align: right;\">\n",
       "      <th></th>\n",
       "      <th>0</th>\n",
       "      <th>1</th>\n",
       "      <th>2</th>\n",
       "      <th>3</th>\n",
       "      <th>4</th>\n",
       "    </tr>\n",
       "  </thead>\n",
       "  <tbody>\n",
       "    <tr>\n",
       "      <th>0</th>\n",
       "      <td>2.000002</td>\n",
       "      <td>-1.000001</td>\n",
       "      <td>0.000000</td>\n",
       "      <td>0.000000</td>\n",
       "      <td>0.000000</td>\n",
       "    </tr>\n",
       "    <tr>\n",
       "      <th>1</th>\n",
       "      <td>-1.000001</td>\n",
       "      <td>2.000002</td>\n",
       "      <td>-1.000001</td>\n",
       "      <td>0.000000</td>\n",
       "      <td>0.000000</td>\n",
       "    </tr>\n",
       "    <tr>\n",
       "      <th>2</th>\n",
       "      <td>0.000000</td>\n",
       "      <td>-1.000001</td>\n",
       "      <td>2.000002</td>\n",
       "      <td>-1.000001</td>\n",
       "      <td>0.000000</td>\n",
       "    </tr>\n",
       "    <tr>\n",
       "      <th>3</th>\n",
       "      <td>0.000000</td>\n",
       "      <td>0.000000</td>\n",
       "      <td>-1.000001</td>\n",
       "      <td>2.000002</td>\n",
       "      <td>-1.000001</td>\n",
       "    </tr>\n",
       "    <tr>\n",
       "      <th>4</th>\n",
       "      <td>0.000000</td>\n",
       "      <td>0.000000</td>\n",
       "      <td>0.000000</td>\n",
       "      <td>-1.000001</td>\n",
       "      <td>2.000002</td>\n",
       "    </tr>\n",
       "  </tbody>\n",
       "</table>\n",
       "</div>"
      ],
      "text/plain": [
       "          0         1         2         3         4\n",
       "0  2.000002 -1.000001  0.000000  0.000000  0.000000\n",
       "1 -1.000001  2.000002 -1.000001  0.000000  0.000000\n",
       "2  0.000000 -1.000001  2.000002 -1.000001  0.000000\n",
       "3  0.000000  0.000000 -1.000001  2.000002 -1.000001\n",
       "4  0.000000  0.000000  0.000000 -1.000001  2.000002"
      ]
     },
     "execution_count": 81,
     "metadata": {},
     "output_type": "execute_result"
    }
   ],
   "source": [
    "DataFrame(A*1.000001)"
   ]
  },
  {
   "cell_type": "code",
   "execution_count": 87,
   "metadata": {},
   "outputs": [
    {
     "data": {
      "text/plain": [
       "array([[ 1.,  0.,  0.,  0.,  0.],\n",
       "       [ 0.,  4.,  2.,  0.,  0.],\n",
       "       [ 0., -2.,  4.,  0.,  0.],\n",
       "       [ 0.,  0.,  0.,  1.,  0.],\n",
       "       [ 0.,  0.,  0.,  0.,  1.]])"
      ]
     },
     "execution_count": 87,
     "metadata": {},
     "output_type": "execute_result"
    }
   ],
   "source": [
    "S"
   ]
  },
  {
   "cell_type": "code",
   "execution_count": 88,
   "metadata": {},
   "outputs": [
    {
     "data": {
      "text/html": [
       "<div>\n",
       "<style scoped>\n",
       "    .dataframe tbody tr th:only-of-type {\n",
       "        vertical-align: middle;\n",
       "    }\n",
       "\n",
       "    .dataframe tbody tr th {\n",
       "        vertical-align: top;\n",
       "    }\n",
       "\n",
       "    .dataframe thead th {\n",
       "        text-align: right;\n",
       "    }\n",
       "</style>\n",
       "<table border=\"1\" class=\"dataframe\">\n",
       "  <thead>\n",
       "    <tr style=\"text-align: right;\">\n",
       "      <th></th>\n",
       "      <th>0</th>\n",
       "      <th>1</th>\n",
       "      <th>2</th>\n",
       "      <th>3</th>\n",
       "      <th>4</th>\n",
       "    </tr>\n",
       "  </thead>\n",
       "  <tbody>\n",
       "    <tr>\n",
       "      <th>0</th>\n",
       "      <td>1.0</td>\n",
       "      <td>1.0</td>\n",
       "      <td>1.0</td>\n",
       "      <td>1.0</td>\n",
       "      <td>1.0</td>\n",
       "    </tr>\n",
       "    <tr>\n",
       "      <th>1</th>\n",
       "      <td>2.0</td>\n",
       "      <td>2.0</td>\n",
       "      <td>2.0</td>\n",
       "      <td>2.0</td>\n",
       "      <td>2.0</td>\n",
       "    </tr>\n",
       "    <tr>\n",
       "      <th>2</th>\n",
       "      <td>6.0</td>\n",
       "      <td>6.0</td>\n",
       "      <td>6.0</td>\n",
       "      <td>6.0</td>\n",
       "      <td>6.0</td>\n",
       "    </tr>\n",
       "    <tr>\n",
       "      <th>3</th>\n",
       "      <td>1.0</td>\n",
       "      <td>1.0</td>\n",
       "      <td>1.0</td>\n",
       "      <td>1.0</td>\n",
       "      <td>1.0</td>\n",
       "    </tr>\n",
       "    <tr>\n",
       "      <th>4</th>\n",
       "      <td>1.0</td>\n",
       "      <td>1.0</td>\n",
       "      <td>1.0</td>\n",
       "      <td>1.0</td>\n",
       "      <td>1.0</td>\n",
       "    </tr>\n",
       "  </tbody>\n",
       "</table>\n",
       "</div>"
      ],
      "text/plain": [
       "     0    1    2    3    4\n",
       "0  1.0  1.0  1.0  1.0  1.0\n",
       "1  2.0  2.0  2.0  2.0  2.0\n",
       "2  6.0  6.0  6.0  6.0  6.0\n",
       "3  1.0  1.0  1.0  1.0  1.0\n",
       "4  1.0  1.0  1.0  1.0  1.0"
      ]
     },
     "execution_count": 88,
     "metadata": {},
     "output_type": "execute_result"
    }
   ],
   "source": [
    "DataFrame(S.T @ np.ones((n,n)))"
   ]
  }
 ],
 "metadata": {
  "kernelspec": {
   "display_name": "Python 3",
   "language": "python",
   "name": "python3"
  },
  "language_info": {
   "codemirror_mode": {
    "name": "ipython",
    "version": 3
   },
   "file_extension": ".py",
   "mimetype": "text/x-python",
   "name": "python",
   "nbconvert_exporter": "python",
   "pygments_lexer": "ipython3",
   "version": "3.8.3"
  }
 },
 "nbformat": 4,
 "nbformat_minor": 4
}
