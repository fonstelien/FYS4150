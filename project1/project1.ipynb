{
 "cells": [
  {
   "cell_type": "code",
   "execution_count": 33,
   "metadata": {},
   "outputs": [],
   "source": [
    "n = 5\n",
    "diagonals = [list(np.random.rand(n-1)), list(np.random.rand(n)), list(np.random.rand(n-1))]\n",
    "b = np.random.rand(n)"
   ]
  },
  {
   "cell_type": "code",
   "execution_count": 34,
   "metadata": {},
   "outputs": [],
   "source": [
    "from scipy.sparse import diags"
   ]
  },
  {
   "cell_type": "code",
   "execution_count": 35,
   "metadata": {},
   "outputs": [],
   "source": [
    "A = diags(diagonals, [-1,0,1]).toarray()"
   ]
  },
  {
   "cell_type": "code",
   "execution_count": 36,
   "metadata": {},
   "outputs": [
    {
     "name": "stdout",
     "output_type": "stream",
     "text": [
      "CPU times: user 55 µs, sys: 11 µs, total: 66 µs\n",
      "Wall time: 69.4 µs\n"
     ]
    }
   ],
   "source": [
    "%%time\n",
    "x_true = np.linalg.solve(A, b)"
   ]
  },
  {
   "cell_type": "code",
   "execution_count": 37,
   "metadata": {},
   "outputs": [
    {
     "name": "stdout",
     "output_type": "stream",
     "text": [
      "CPU times: user 31 µs, sys: 6 µs, total: 37 µs\n",
      "Wall time: 40.1 µs\n"
     ]
    }
   ],
   "source": [
    "%%time\n",
    "# Forward propagation\n",
    "for i in range(1,n):\n",
    "    a1 = A[i][i-1]\n",
    "    b0 = A[i-1][i-1]\n",
    "    c0 = A[i-1][i]\n",
    "    A[i][i] -= a1/b0*c0\n",
    "    b[i] -= a1/b0*b[i-1]\n",
    "\n",
    "# Backward propagation\n",
    "b[n-1] /= A[n-1][n-1]\n",
    "for i in range(n-2,-1,-1):\n",
    "    b[i] -= A[i][i+1]*b[i+1]\n",
    "    b[i] /= A[i][i]"
   ]
  },
  {
   "cell_type": "code",
   "execution_count": 38,
   "metadata": {},
   "outputs": [
    {
     "data": {
      "text/plain": [
       "-3.903127820947816e-16"
      ]
     },
     "execution_count": 38,
     "metadata": {},
     "output_type": "execute_result"
    }
   ],
   "source": [
    "sum(b-x_true)"
   ]
  }
 ],
 "metadata": {
  "kernelspec": {
   "display_name": "Python 3",
   "language": "python",
   "name": "python3"
  },
  "language_info": {
   "codemirror_mode": {
    "name": "ipython",
    "version": 3
   },
   "file_extension": ".py",
   "mimetype": "text/x-python",
   "name": "python",
   "nbconvert_exporter": "python",
   "pygments_lexer": "ipython3",
   "version": "3.8.3"
  }
 },
 "nbformat": 4,
 "nbformat_minor": 4
}
