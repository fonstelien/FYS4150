{
 "cells": [
  {
   "cell_type": "code",
   "execution_count": 239,
   "metadata": {},
   "outputs": [],
   "source": [
    "import scipy\n",
    "n = int(1E1)\n",
    "h = 1./(n+1)\n",
    "b_tilde = h**2 * 100*np.exp(-10*np.linspace(0,1,n+2))[1:-1]"
   ]
  },
  {
   "cell_type": "markdown",
   "metadata": {},
   "source": [
    "# 1b. General solution"
   ]
  },
  {
   "cell_type": "code",
   "execution_count": 227,
   "metadata": {},
   "outputs": [],
   "source": [
    "# Diagonals\n",
    "a = np.random.rand(n)\n",
    "b = np.random.rand(n)\n",
    "c = np.random.rand(n)"
   ]
  },
  {
   "cell_type": "code",
   "execution_count": 228,
   "metadata": {},
   "outputs": [],
   "source": [
    "# Solution from library function\n",
    "A = scipy.sparse.diags([list(a[1:]), list(b), list(c[:-1])], [-1,0,1]).toarray()"
   ]
  },
  {
   "cell_type": "code",
   "execution_count": 229,
   "metadata": {},
   "outputs": [
    {
     "name": "stdout",
     "output_type": "stream",
     "text": [
      "CPU times: user 16.7 s, sys: 396 ms, total: 17.1 s\n",
      "Wall time: 4.27 s\n"
     ]
    }
   ],
   "source": [
    "%%time\n",
    "x_lib = np.linalg.solve(A, b_tilde)"
   ]
  },
  {
   "cell_type": "code",
   "execution_count": 230,
   "metadata": {},
   "outputs": [],
   "source": [
    "# My implementation\n",
    "b_mod = np.copy(b)\n",
    "b_tilde_solution = np.copy(b_tilde)"
   ]
  },
  {
   "cell_type": "code",
   "execution_count": 231,
   "metadata": {},
   "outputs": [
    {
     "name": "stdout",
     "output_type": "stream",
     "text": [
      "CPU times: user 159 ms, sys: 3.45 ms, total: 163 ms\n",
      "Wall time: 40.6 ms\n"
     ]
    }
   ],
   "source": [
    "%%time\n",
    "\n",
    "# Forward substitution\n",
    "for i in range(1,n):\n",
    "    f = a[i]/b_mod[i-1]\n",
    "    b_mod[i] -= f*c[i-1]\n",
    "    b_tilde_solution[i] -= f*b_tilde_solution[i-1]\n",
    "\n",
    "# Solving n-1'th x \n",
    "b_tilde_solution[n-1] /= b_mod[n-1]\n",
    "\n",
    "# Backward substitution\n",
    "for i in range(n-2, -1, -1):\n",
    "    b_tilde_solution[i] = (b_tilde_solution[i] - c[i]*b_tilde_solution[i+1])/b_mod[i]"
   ]
  },
  {
   "cell_type": "code",
   "execution_count": 232,
   "metadata": {},
   "outputs": [],
   "source": [
    "# Controlling result\n",
    "assert max(x_lib-b_tilde_solution) < 1E-10"
   ]
  },
  {
   "cell_type": "markdown",
   "metadata": {},
   "source": [
    "\n",
    "# 1c. Specific solution for 2nd derivative"
   ]
  },
  {
   "cell_type": "code",
   "execution_count": 233,
   "metadata": {},
   "outputs": [],
   "source": [
    "# Diagonals\n",
    "a = np.zeros(n)-1\n",
    "b = np.zeros(n)+2\n",
    "c = np.zeros(n)-1"
   ]
  },
  {
   "cell_type": "code",
   "execution_count": 234,
   "metadata": {},
   "outputs": [],
   "source": [
    "# Solution from library function\n",
    "A = scipy.sparse.diags([list(a[1:]), list(b), list(c[:-1])], [-1,0,1]).toarray()"
   ]
  },
  {
   "cell_type": "code",
   "execution_count": 235,
   "metadata": {},
   "outputs": [
    {
     "name": "stdout",
     "output_type": "stream",
     "text": [
      "CPU times: user 17.5 s, sys: 367 ms, total: 17.9 s\n",
      "Wall time: 4.47 s\n"
     ]
    }
   ],
   "source": [
    "%%time\n",
    "x_lib = np.linalg.solve(A, b_tilde)"
   ]
  },
  {
   "cell_type": "code",
   "execution_count": 236,
   "metadata": {},
   "outputs": [],
   "source": [
    "# My implementation\n",
    "b_tilde_solution = np.copy(b_tilde)"
   ]
  },
  {
   "cell_type": "code",
   "execution_count": 237,
   "metadata": {},
   "outputs": [
    {
     "name": "stdout",
     "output_type": "stream",
     "text": [
      "CPU times: user 119 ms, sys: 0 ns, total: 119 ms\n",
      "Wall time: 29.8 ms\n"
     ]
    }
   ],
   "source": [
    "%%time\n",
    "\n",
    "# Forward substitution of b_tilde only\n",
    "for i in range(1,n):\n",
    "    b_tilde_solution[i] = (i+1)*b_tilde_solution[i] + b_tilde_solution[i-1]\n",
    "\n",
    "# Solving n-1'th x\n",
    "b_tilde_solution[n-1] /= (n+1)\n",
    "\n",
    "# Backward substitution is with known factors\n",
    "for i in range(n-2, -1, -1):\n",
    "    b_tilde_solution[i] = (b_tilde_solution[i] + (i+1)*b_tilde_solution[i+1])/(i+2)"
   ]
  },
  {
   "cell_type": "code",
   "execution_count": 238,
   "metadata": {},
   "outputs": [],
   "source": [
    "# Controlling result\n",
    "assert max(x_lib-b_tilde_solution) < 1E-10"
   ]
  }
 ],
 "metadata": {
  "kernelspec": {
   "display_name": "Python 3",
   "language": "python",
   "name": "python3"
  },
  "language_info": {
   "codemirror_mode": {
    "name": "ipython",
    "version": 3
   },
   "file_extension": ".py",
   "mimetype": "text/x-python",
   "name": "python",
   "nbconvert_exporter": "python",
   "pygments_lexer": "ipython3",
   "version": "3.8.3"
  }
 },
 "nbformat": 4,
 "nbformat_minor": 4
}
